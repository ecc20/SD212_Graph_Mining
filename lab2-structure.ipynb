{
 "cells": [
  {
   "cell_type": "markdown",
   "metadata": {},
   "source": [
    "# SD212: Graph mining\n",
    "## Lab 2: Graph structure\n",
    "\n",
    "In this lab, you will learn to:\n",
    "* plot the degree distribution and observe the [power-law](https://en.wikipedia.org/wiki/Power_law#Power-law_probability_distributions),\n",
    "* estimate the [diameter](https://en.wikipedia.org/wiki/Distance_(graph_theory)) of a graph and observe the [small-world](https://en.wikipedia.org/wiki/Small-world_network) property,\n",
    "* estimate the [clustering coefficient](https://en.wikipedia.org/wiki/Clustering_coefficient) of a graph."
   ]
  },
  {
   "cell_type": "markdown",
   "metadata": {},
   "source": [
    "## Import"
   ]
  },
  {
   "cell_type": "code",
   "execution_count": 1,
   "metadata": {},
   "outputs": [],
   "source": [
    "import numpy as np\n",
    "from scipy import sparse\n",
    "from scipy.sparse.csgraph import shortest_path\n",
    "import matplotlib.pyplot as plt"
   ]
  },
  {
   "cell_type": "code",
   "execution_count": 2,
   "metadata": {},
   "outputs": [],
   "source": [
    "%matplotlib inline"
   ]
  },
  {
   "cell_type": "code",
   "execution_count": 3,
   "metadata": {},
   "outputs": [],
   "source": [
    "from sknetwork.data import load_netset, erdos_renyie, cyclic_graph, linear_graph\n",
    "from sknetwork.utils import bipartite2undirected"
   ]
  },
  {
   "cell_type": "markdown",
   "metadata": {},
   "source": [
    "Example:\n",
    "A = [[0, B], [B^T, 0]], B = biadjacency matrix"
   ]
  },
  {
   "cell_type": "markdown",
   "metadata": {},
   "source": [
    "## Data"
   ]
  },
  {
   "cell_type": "markdown",
   "metadata": {},
   "source": [
    "We will work on the following graphs (see the [NetSets](https://graphs.telecom-paristech.fr/Home_page.html#netsets-section) collection for details):\n",
    "* Openflights (graph)\n",
    "* WikiVitals (digraph)\n",
    "* Cinema (bigraph)"
   ]
  },
  {
   "cell_type": "code",
   "execution_count": 4,
   "metadata": {},
   "outputs": [],
   "source": [
    "openflights = load_netset('openflights')"
   ]
  },
  {
   "cell_type": "code",
   "execution_count": 5,
   "metadata": {},
   "outputs": [],
   "source": [
    "# focus on degrees, not weights\n",
    "adjacency = (openflights.adjacency > 0)"
   ]
  },
  {
   "cell_type": "code",
   "execution_count": 6,
   "metadata": {},
   "outputs": [],
   "source": [
    "wikivitals = load_netset('wikivitals')"
   ]
  },
  {
   "cell_type": "code",
   "execution_count": 7,
   "metadata": {},
   "outputs": [],
   "source": [
    "cinema = load_netset('cinema')"
   ]
  },
  {
   "cell_type": "markdown",
   "metadata": {},
   "source": [
    "## 1. Power law"
   ]
  },
  {
   "cell_type": "markdown",
   "metadata": {},
   "source": [
    "We first focus on the power law degree distribution.\n",
    "\n",
    "We consider the empirical distributions of:\n",
    "* degrees in the Openflights graph,\n",
    "* out-degrees and in-degrees in the WikiVitals graph."
   ]
  },
  {
   "cell_type": "markdown",
   "metadata": {},
   "source": [
    "## To do"
   ]
  },
  {
   "cell_type": "markdown",
   "metadata": {},
   "source": [
    "For each of these distributions:\n",
    "* Compute the [coefficient of variation](https://en.wikipedia.org/wiki/Coefficient_of_variation) and compare it to that of a Poisson distribution with the same mean.\n",
    "* Plot the [tail distribution](https://en.wikipedia.org/wiki/Cumulative_distribution_function#Complementary_cumulative_distribution_function_(tail_distribution)) in log-log scale and compare it to that of an equivalent [Erdos-Rényi](https://en.wikipedia.org/wiki/Erdős–Rényi_model) graph (same number of nodes, same average degree).\n",
    "* Conclude: do you consider that this is a power law?\n",
    "\n",
    "**Hint:** Use the ``loglog`` function of ``pyplot``."
   ]
  },
  {
   "cell_type": "code",
   "execution_count": 10,
   "metadata": {},
   "outputs": [
    {
     "name": "stdout",
     "output_type": "stream",
     "text": [
      "0.8065909718992998\n",
      "1.3553811414388752\n"
     ]
    }
   ],
   "source": [
    "adjacency = wikivitals.adjacency\n",
    "n = adjacency.shape[0]\n",
    "out_degrees = adjacency.dot(np.ones(n))\n",
    "print(np.std(out_degrees)/np.mean(out_degrees))\n",
    "in_degrees = adjacency.T.dot(np.ones(n))\n",
    "print(np.std(in_degrees)/np.mean(in_degrees))"
   ]
  },
  {
   "cell_type": "code",
   "execution_count": 11,
   "metadata": {},
   "outputs": [
    {
     "name": "stdout",
     "output_type": "stream",
     "text": [
      "0.11310413960505337\n"
     ]
    }
   ],
   "source": [
    "adjacency_random = erdos_renyie(n, np.mean(in_degrees)/n)\n",
    "degrees_random = adjacency_random.dot(np.ones(n))\n",
    "print(np.std(degrees_random)/np.mean(degrees_random))"
   ]
  },
  {
   "cell_type": "code",
   "execution_count": 12,
   "metadata": {},
   "outputs": [
    {
     "data": {
      "text/plain": [
       "Text(0, 0.5, 'Probability')"
      ]
     },
     "execution_count": 12,
     "metadata": {},
     "output_type": "execute_result"
    },
    {
     "data": {
      "image/png": "[encoded data removed]",
      "text/plain": [
       "<Figure size 432x288 with 1 Axes>"
      ]
     },
     "metadata": {
      "needs_background": "light"
     },
     "output_type": "display_data"
    }
   ],
   "source": [
    "plt.loglog(np.sort(in_degrees), 1 - np.arange(n)/n, lw=3)\n",
    "plt.xlabel('Degree')\n",
    "plt.ylabel('Probability')"
   ]
  },
  {
   "cell_type": "code",
   "execution_count": 13,
   "metadata": {},
   "outputs": [
    {
     "data": {
      "text/plain": [
       "Text(0, 0.5, 'Probability')"
      ]
     },
     "execution_count": 13,
     "metadata": {},
     "output_type": "execute_result"
    },
    {
     "data": {
      "image/png": "[encoded data removed]",
      "text/plain": [
       "<Figure size 432x288 with 1 Axes>"
      ]
     },
     "metadata": {
      "needs_background": "light"
     },
     "output_type": "display_data"
    }
   ],
   "source": [
    "plt.loglog(np.sort(in_degrees), 1 - np.arange(n)/n, lw=3)\n",
    "plt.loglog(np.sort(degrees_random), 1 - np.arange(n)/n, lw=3)\n",
    "plt.xlabel('Degree')\n",
    "plt.ylabel('Probability')"
   ]
  },
  {
   "cell_type": "markdown",
   "metadata": {},
   "source": [
    "## 2. Small-world"
   ]
  },
  {
   "cell_type": "markdown",
   "metadata": {},
   "source": [
    "You will now make a few experiments highlighting the small-world property."
   ]
  },
  {
   "cell_type": "markdown",
   "metadata": {},
   "source": [
    "## To do\n",
    "\n",
    "* Complete the following function computing the distances from any given node in number of hops.\n",
    "* Compare it to the function `shortest_path` of SciPy on WikiVitals."
   ]
  },
  {
   "cell_type": "code",
   "execution_count": 14,
   "metadata": {},
   "outputs": [],
   "source": [
    "def get_distances(adjacency: sparse.csr_matrix, source: int) -> np.ndarray:\n",
    "    '''Get distances from a source node in number of hops.\n",
    "    \n",
    "    Parameters\n",
    "    ----------\n",
    "    adjacency: \n",
    "        Adjacency matrix of the graph.\n",
    "    source:\n",
    "        Source node\n",
    "    \n",
    "    Returns\n",
    "    -------\n",
    "    distances:\n",
    "        Vector of distances.\n",
    "    '''\n",
    "    n = adjacency.shape[0]\n",
    "    distances = np.inf * np.ones(n)\n",
    "    distances[source] = 0\n",
    "    # vector of nodes reached after t steps\n",
    "    reached = np.zeros(n).astype(bool)\n",
    "    reached[source] = True\n",
    "    change = True\n",
    "    t = 0\n",
    "    while change:\n",
    "        t += 1\n",
    "        # to be modified\n",
    "        reached = adjacency.T.dot(reached) \n",
    "        # end \n",
    "        new_nodes = np.argwhere((distances == np.inf) * reached).ravel()\n",
    "        distances[new_nodes] = t\n",
    "        change = len(new_nodes)\n",
    "    return distances"
   ]
  },
  {
   "cell_type": "code",
   "execution_count": 15,
   "metadata": {},
   "outputs": [],
   "source": [
    "adjacency = openflights.adjacency > 0\n",
    "distances = get_distances(adjacency, 0)\n",
    "distances_scipy = shortest_path(adjacency, indices = [0])"
   ]
  },
  {
   "cell_type": "code",
   "execution_count": 16,
   "metadata": {},
   "outputs": [
    {
     "data": {
      "text/plain": [
       "0.0"
      ]
     },
     "execution_count": 16,
     "metadata": {},
     "output_type": "execute_result"
    }
   ],
   "source": [
    "np.sum(np.abs(distances - distances_scipy))"
   ]
  },
  {
   "cell_type": "markdown",
   "metadata": {},
   "source": [
    "## To do\n",
    "\n",
    "* Which fraction of the airports can be reached from **Paris Charles de Gaulle** in 1, 2, 3 flights?\n",
    "* Which fraction of the articles can be reached from **Paris** in 1, 2, 3 clicks on Wikipedia Vitals?"
   ]
  },
  {
   "cell_type": "code",
   "execution_count": 22,
   "metadata": {},
   "outputs": [
    {
     "data": {
      "text/plain": [
       "'Charles de Gaulle International Airport'"
      ]
     },
     "execution_count": 22,
     "metadata": {},
     "output_type": "execute_result"
    }
   ],
   "source": [
    "adjacency = openflights.adjacency > 0\n",
    "n = adjacency.shape[0]\n",
    "names = openflights.names\n",
    "source = 622\n",
    "names[source]"
   ]
  },
  {
   "cell_type": "code",
   "execution_count": 32,
   "metadata": {},
   "outputs": [
    {
     "name": "stdout",
     "output_type": "stream",
     "text": [
      "0.6189861155957378\n"
     ]
    }
   ],
   "source": [
    "distances_cdg = get_distances(adjacency, source)\n",
    "nb_inf3 = np.argwhere(distances_cdg<=2).shape[0]\n",
    "print(nb_inf3/len(distances_cdg))"
   ]
  },
  {
   "cell_type": "code",
   "execution_count": 33,
   "metadata": {},
   "outputs": [
    {
     "data": {
      "text/plain": [
       "0.0"
      ]
     },
     "execution_count": 33,
     "metadata": {},
     "output_type": "execute_result"
    }
   ],
   "source": [
    "distances_cdg[source]"
   ]
  },
  {
   "cell_type": "markdown",
   "metadata": {},
   "source": [
    "## To do"
   ]
  },
  {
   "cell_type": "markdown",
   "metadata": {},
   "source": [
    "The following function estimates the [diameter](https://en.wikipedia.org/wiki/Distance_(graph_theory)) of a graph.\n",
    "\n",
    "* Adapt this function so that it returns a path of length equal to this estimated diameter.\n",
    "* Give a path of **length at least 10** in Openflights (with the names of the airports).\n",
    "* Give a path of **length at least 5** in WikiVitals (with the names of the articles)."
   ]
  },
  {
   "cell_type": "code",
   "execution_count": 57,
   "metadata": {},
   "outputs": [],
   "source": [
    "def estimate_diameter(adjacency: sparse.csr_matrix, n_samples=100) -> int:\n",
    "    '''Estimate the diameter of a graph.\n",
    "    \n",
    "    Parameters\n",
    "    ----------\n",
    "    adjacency: \n",
    "        Adjacency matrix of the graph.\n",
    "    n_samples:\n",
    "        Number of samples.\n",
    "    \n",
    "    Returns\n",
    "    -------\n",
    "    diameter:\n",
    "        Estimation of the diameter. \n",
    "    '''    \n",
    "    n = adjacency.shape[0]\n",
    "    nodes = np.random.choice(n, size=n_samples)\n",
    "    distances = shortest_path(adjacency.T, indices=nodes)\n",
    "    sources = np.where(np.isinf(distances), -1, distances).argmax(axis=1)    \n",
    "    distances = shortest_path(adjacency, indices=sources)\n",
    "    diameter = np.where(np.isinf(distances), -1, distances).max()\n",
    "    return int(diameter)"
   ]
  },
  {
   "cell_type": "code",
   "execution_count": null,
   "metadata": {},
   "outputs": [],
   "source": []
  },
  {
   "cell_type": "markdown",
   "metadata": {},
   "source": [
    "## To do\n",
    "\n",
    "* Compute the [Bacon number](https://fr.wikipedia.org/wiki/Six_Degrees_of_Kevin_Bacon) of all actors.\n",
    "* Plot the corresponding histogram.\n",
    "\n",
    "**Hint:** Use distances in the bipartite graph. Do **not** try to compute the co-starring graph of actors, with adjacency matrix $A = B^TB$ where $B$ is the movie-actor biadjacency matrix (guess why)."
   ]
  },
  {
   "cell_type": "code",
   "execution_count": 58,
   "metadata": {},
   "outputs": [
    {
     "data": {
      "text/plain": [
       "<88440x44586 sparse matrix of type '<class 'numpy.bool_'>'\n",
       "\twith 304006 stored elements in Compressed Sparse Row format>"
      ]
     },
     "execution_count": 58,
     "metadata": {},
     "output_type": "execute_result"
    }
   ],
   "source": [
    "cinema.biadjacency"
   ]
  },
  {
   "cell_type": "markdown",
   "metadata": {},
   "source": [
    "## 3. Clustering coefficient"
   ]
  },
  {
   "cell_type": "markdown",
   "metadata": {},
   "source": [
    "You will now learn to estimate the clustering coefficient of a graph."
   ]
  },
  {
   "cell_type": "markdown",
   "metadata": {},
   "source": [
    "## To do\n",
    "\n",
    "\n",
    "* Complete the following function to estimate the clustering coefficient of a graph.\n",
    "* Test it on a triangle and  a line.\n",
    "* Compute the clustering coefficient of Openflights and WikiVitals (seen as an undirected graph).\n",
    "\n",
    "**Hint:** A triangle is... a cycle of length 3"
   ]
  },
  {
   "cell_type": "code",
   "execution_count": null,
   "metadata": {},
   "outputs": [],
   "source": [
    "def clustering_coefficient(adjacency: sparse.csr_matrix, n_samples: int = 500) -> float:\n",
    "    '''Get the clustering coefficient of a graph.\n",
    "    \n",
    "    Parameters\n",
    "    ----------\n",
    "    adjacency: \n",
    "        Adjacency matrix of the graph.\n",
    "    \n",
    "    Returns\n",
    "    -------\n",
    "    clustering_coef:\n",
    "        Clustering coefficient.\n",
    "    '''\n",
    "    \n",
    "    \n",
    "    n = adjacency.shape[0]\n",
    "    if n_samples < n:\n",
    "        nodes = np.random.choice(n, size=n_samples, replace=False)\n",
    "    else:\n",
    "        nodes = np.arange(n)\n",
    "    # to be modified\n",
    "    # a single loop on preselected nodes allowed\n",
    "    clustering_coef = 0\n",
    "    \n",
    "    \n",
    "    return clustering_coef"
   ]
  },
  {
   "cell_type": "code",
   "execution_count": null,
   "metadata": {},
   "outputs": [],
   "source": [
    "triangle = cyclic_graph(3)"
   ]
  },
  {
   "cell_type": "code",
   "execution_count": null,
   "metadata": {},
   "outputs": [],
   "source": [
    "line = linear_graph(5)"
   ]
  }
 ],
 "metadata": {
  "anaconda-cloud": {},
  "hide_input": false,
  "kernelspec": {
   "display_name": "Python 3",
   "language": "python",
   "name": "python3"
  },
  "language_info": {
   "codemirror_mode": {
    "name": "ipython",
    "version": 3
   },
   "file_extension": ".py",
   "mimetype": "text/x-python",
   "name": "python",
   "nbconvert_exporter": "python",
   "pygments_lexer": "ipython3",
   "version": "3.7.3"
  }
 },
 "nbformat": 4,
 "nbformat_minor": 1
}
