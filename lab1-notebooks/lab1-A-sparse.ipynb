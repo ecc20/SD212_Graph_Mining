{
 "cells": [
  {
   "cell_type": "markdown",
   "metadata": {},
   "source": [
    "# SD212: Graph mining\n",
    "\n",
    "# Lab 1: Sparse matrices"
   ]
  },
  {
   "cell_type": "markdown",
   "metadata": {},
   "source": [
    "The objective of this lab is to understand the structure and main properties of [sparse matrices](https://en.wikipedia.org/wiki/Sparse_matrix)."
   ]
  },
  {
   "cell_type": "markdown",
   "metadata": {},
   "source": [
    "## Import"
   ]
  },
  {
   "cell_type": "code",
   "execution_count": 1,
   "metadata": {},
   "outputs": [],
   "source": [
    "import numpy as np"
   ]
  },
  {
   "cell_type": "code",
   "execution_count": 2,
   "metadata": {},
   "outputs": [],
   "source": [
    "from scipy import sparse"
   ]
  },
  {
   "cell_type": "markdown",
   "metadata": {},
   "source": [
    "## Coordinate format"
   ]
  },
  {
   "cell_type": "code",
   "execution_count": 3,
   "metadata": {},
   "outputs": [],
   "source": [
    "# random matrix (dense format)\n",
    "A_dense = np.random.randint(2, size = (5,10))"
   ]
  },
  {
   "cell_type": "code",
   "execution_count": 4,
   "metadata": {},
   "outputs": [
    {
     "data": {
      "text/plain": [
       "array([[0, 0, 1, 0, 1, 1, 0, 0, 0, 1],\n",
       "       [0, 1, 1, 0, 0, 0, 0, 0, 0, 1],\n",
       "       [0, 0, 0, 0, 0, 0, 1, 0, 0, 0],\n",
       "       [1, 1, 1, 0, 0, 0, 0, 1, 0, 0],\n",
       "       [0, 1, 0, 1, 0, 1, 0, 1, 1, 0]])"
      ]
     },
     "execution_count": 4,
     "metadata": {},
     "output_type": "execute_result"
    }
   ],
   "source": [
    "A_dense"
   ]
  },
  {
   "cell_type": "code",
   "execution_count": 5,
   "metadata": {},
   "outputs": [],
   "source": [
    "A_coo = sparse.coo_matrix(A_dense)"
   ]
  },
  {
   "cell_type": "code",
   "execution_count": 6,
   "metadata": {},
   "outputs": [
    {
     "data": {
      "text/plain": [
       "<5x10 sparse matrix of type '<class 'numpy.int64'>'\n",
       "\twith 17 stored elements in COOrdinate format>"
      ]
     },
     "execution_count": 6,
     "metadata": {},
     "output_type": "execute_result"
    }
   ],
   "source": [
    "A_coo"
   ]
  },
  {
   "cell_type": "code",
   "execution_count": 7,
   "metadata": {},
   "outputs": [
    {
     "data": {
      "text/plain": [
       "(5, 10)"
      ]
     },
     "execution_count": 7,
     "metadata": {},
     "output_type": "execute_result"
    }
   ],
   "source": [
    "A_coo.shape"
   ]
  },
  {
   "cell_type": "code",
   "execution_count": 8,
   "metadata": {},
   "outputs": [
    {
     "data": {
      "text/plain": [
       "17"
      ]
     },
     "execution_count": 8,
     "metadata": {},
     "output_type": "execute_result"
    }
   ],
   "source": [
    "A_coo.nnz"
   ]
  },
  {
   "cell_type": "code",
   "execution_count": 9,
   "metadata": {},
   "outputs": [
    {
     "name": "stdout",
     "output_type": "stream",
     "text": [
      "[0 0 0 0 1 1 1 2 3 3 3 3 4 4 4 4 4]\n",
      "[2 4 5 9 1 2 9 6 0 1 2 7 1 3 5 7 8]\n",
      "[1 1 1 1 1 1 1 1 1 1 1 1 1 1 1 1 1]\n"
     ]
    }
   ],
   "source": [
    "print(A_coo.row)\n",
    "print(A_coo.col)\n",
    "print(A_coo.data)"
   ]
  },
  {
   "cell_type": "code",
   "execution_count": 10,
   "metadata": {},
   "outputs": [],
   "source": [
    "row = A_coo.row\n",
    "col = A_coo.col\n",
    "data = np.random.randint(10, size=len(A_coo.data))\n",
    "shape = A_coo.shape"
   ]
  },
  {
   "cell_type": "code",
   "execution_count": 11,
   "metadata": {},
   "outputs": [],
   "source": [
    "B_coo = sparse.coo_matrix((data, (row, col)), shape)"
   ]
  },
  {
   "cell_type": "code",
   "execution_count": 12,
   "metadata": {},
   "outputs": [
    {
     "data": {
      "text/plain": [
       "<5x10 sparse matrix of type '<class 'numpy.int64'>'\n",
       "\twith 17 stored elements in COOrdinate format>"
      ]
     },
     "execution_count": 12,
     "metadata": {},
     "output_type": "execute_result"
    }
   ],
   "source": [
    "B_coo"
   ]
  },
  {
   "cell_type": "code",
   "execution_count": 13,
   "metadata": {},
   "outputs": [
    {
     "data": {
      "text/plain": [
       "array([[0, 0, 8, 0, 9, 7, 0, 0, 0, 7],\n",
       "       [0, 8, 9, 0, 0, 0, 0, 0, 0, 9],\n",
       "       [0, 0, 0, 0, 0, 0, 7, 0, 0, 0],\n",
       "       [2, 6, 8, 0, 0, 0, 0, 6, 0, 0],\n",
       "       [0, 5, 0, 2, 0, 6, 0, 7, 0, 0]])"
      ]
     },
     "execution_count": 13,
     "metadata": {},
     "output_type": "execute_result"
    }
   ],
   "source": [
    "B_coo.toarray()"
   ]
  },
  {
   "cell_type": "code",
   "execution_count": 14,
   "metadata": {},
   "outputs": [
    {
     "data": {
      "text/plain": [
       "17"
      ]
     },
     "execution_count": 14,
     "metadata": {},
     "output_type": "execute_result"
    }
   ],
   "source": [
    "B_coo.nnz"
   ]
  },
  {
   "cell_type": "code",
   "execution_count": 15,
   "metadata": {},
   "outputs": [
    {
     "data": {
      "text/plain": [
       "16"
      ]
     },
     "execution_count": 15,
     "metadata": {},
     "output_type": "execute_result"
    }
   ],
   "source": [
    "np.sum(B_coo.data > 0)"
   ]
  },
  {
   "cell_type": "code",
   "execution_count": 16,
   "metadata": {},
   "outputs": [],
   "source": [
    "B_coo.eliminate_zeros()"
   ]
  },
  {
   "cell_type": "code",
   "execution_count": 17,
   "metadata": {},
   "outputs": [
    {
     "data": {
      "text/plain": [
       "<5x10 sparse matrix of type '<class 'numpy.int64'>'\n",
       "\twith 16 stored elements in COOrdinate format>"
      ]
     },
     "execution_count": 17,
     "metadata": {},
     "output_type": "execute_result"
    }
   ],
   "source": [
    "B_coo"
   ]
  },
  {
   "cell_type": "markdown",
   "metadata": {},
   "source": [
    "## To do"
   ]
  },
  {
   "cell_type": "markdown",
   "metadata": {},
   "source": [
    "Complete the function below that converts a dense matrix into a sparse matrix in COO format. \n",
    "\n",
    "Needless to say...\n",
    "* don't use `scipy`\n",
    "* don't use any loop"
   ]
  },
  {
   "cell_type": "code",
   "execution_count": 20,
   "metadata": {},
   "outputs": [],
   "source": [
    "class SparseCOO():\n",
    "    def __init__(self, data: np.ndarray = None, row: np.ndarray = None, \n",
    "                 col: np.ndarray = None, shape: tuple = None):\n",
    "        self.data = data\n",
    "        self.row = row\n",
    "        self.col = col\n",
    "        self.shape = shape"
   ]
  },
  {
   "cell_type": "code",
   "execution_count": 244,
   "metadata": {},
   "outputs": [],
   "source": [
    "def dense_to_coo(A):\n",
    "    '''Convert dense matrix to sparse in COO format.\n",
    "    \n",
    "    Parameters\n",
    "    ----------\n",
    "    A : np.ndarray\n",
    "        Dense matrix\n",
    "        \n",
    "    Returns\n",
    "    -------\n",
    "    A_coo : SparseCOO\n",
    "        Sparse matrix in COO format.\n",
    "    '''\n",
    "    # to be modified\n",
    "    \n",
    "    data = A[A!=0]\n",
    "    index = np.argwhere(A != 0)\n",
    "    row = index[:,0]\n",
    "    col = index[:,1]\n",
    "    shape = A.shape\n",
    "    sparseCOO = SparseCOO(data, row, col,shape)\n",
    "    return sparseCOO"
   ]
  },
  {
   "cell_type": "code",
   "execution_count": 49,
   "metadata": {},
   "outputs": [
    {
     "name": "stdout",
     "output_type": "stream",
     "text": [
      "[1 1 1 1 1 1 1 1 1 1 1 1 1 1 1 1 1]\n",
      "[0 0 0 0 1 1 1 2 3 3 3 3 4 4 4 4 4]\n",
      "[2 4 5 9 1 2 9 6 0 1 2 7 1 3 5 7 8]\n"
     ]
    }
   ],
   "source": [
    "sparseCOO = dense_to_coo(A_dense)\n",
    "print(sparseCOO.data)\n",
    "print(sparseCOO.row)\n",
    "print(sparseCOO.col)"
   ]
  },
  {
   "cell_type": "markdown",
   "metadata": {},
   "source": [
    "## CSR format"
   ]
  },
  {
   "cell_type": "markdown",
   "metadata": {},
   "source": [
    "The CSR (Compressed Sparse Row) format is the more efficient for arithmetic operations (see below)."
   ]
  },
  {
   "cell_type": "code",
   "execution_count": 25,
   "metadata": {
    "scrolled": true
   },
   "outputs": [
    {
     "data": {
      "text/plain": [
       "array([[0, 0, 1, 0, 1, 1, 0, 0, 0, 1],\n",
       "       [0, 1, 1, 0, 0, 0, 0, 0, 0, 1],\n",
       "       [0, 0, 0, 0, 0, 0, 1, 0, 0, 0],\n",
       "       [1, 1, 1, 0, 0, 0, 0, 1, 0, 0],\n",
       "       [0, 1, 0, 1, 0, 1, 0, 1, 1, 0]])"
      ]
     },
     "execution_count": 25,
     "metadata": {},
     "output_type": "execute_result"
    }
   ],
   "source": [
    "A_dense"
   ]
  },
  {
   "cell_type": "code",
   "execution_count": 26,
   "metadata": {},
   "outputs": [],
   "source": [
    "A_csr = sparse.csr_matrix(A_dense)"
   ]
  },
  {
   "cell_type": "code",
   "execution_count": 27,
   "metadata": {},
   "outputs": [
    {
     "data": {
      "text/plain": [
       "<5x10 sparse matrix of type '<class 'numpy.int64'>'\n",
       "\twith 17 stored elements in Compressed Sparse Row format>"
      ]
     },
     "execution_count": 27,
     "metadata": {},
     "output_type": "execute_result"
    }
   ],
   "source": [
    "A_csr"
   ]
  },
  {
   "cell_type": "code",
   "execution_count": 28,
   "metadata": {},
   "outputs": [
    {
     "data": {
      "text/plain": [
       "(5, 10)"
      ]
     },
     "execution_count": 28,
     "metadata": {},
     "output_type": "execute_result"
    }
   ],
   "source": [
    "A_csr.shape"
   ]
  },
  {
   "cell_type": "code",
   "execution_count": 29,
   "metadata": {},
   "outputs": [
    {
     "data": {
      "text/plain": [
       "17"
      ]
     },
     "execution_count": 29,
     "metadata": {},
     "output_type": "execute_result"
    }
   ],
   "source": [
    "A_csr.nnz"
   ]
  },
  {
   "cell_type": "code",
   "execution_count": 30,
   "metadata": {},
   "outputs": [
    {
     "name": "stdout",
     "output_type": "stream",
     "text": [
      "[2 4 5 9 1 2 9 6 0 1 2 7 1 3 5 7 8]\n",
      "[ 0  4  7  8 12 17]\n",
      "[1 1 1 1 1 1 1 1 1 1 1 1 1 1 1 1 1]\n"
     ]
    }
   ],
   "source": [
    "print(A_csr.indices)\n",
    "print(A_csr.indptr)\n",
    "print(A_csr.data)"
   ]
  },
  {
   "cell_type": "code",
   "execution_count": 31,
   "metadata": {},
   "outputs": [
    {
     "data": {
      "text/plain": [
       "0"
      ]
     },
     "execution_count": 31,
     "metadata": {},
     "output_type": "execute_result"
    }
   ],
   "source": [
    "A_csr[3, 4]"
   ]
  },
  {
   "cell_type": "code",
   "execution_count": 32,
   "metadata": {},
   "outputs": [
    {
     "data": {
      "text/plain": [
       "<1x10 sparse matrix of type '<class 'numpy.int64'>'\n",
       "\twith 4 stored elements in Compressed Sparse Row format>"
      ]
     },
     "execution_count": 32,
     "metadata": {},
     "output_type": "execute_result"
    }
   ],
   "source": [
    "A_csr[3]"
   ]
  },
  {
   "cell_type": "code",
   "execution_count": 33,
   "metadata": {},
   "outputs": [],
   "source": [
    "indices = A_csr.indices\n",
    "indptr = A_csr.indptr\n",
    "data = np.random.randint(10, size=len(A_csr.data))\n",
    "shape = A_csr.shape"
   ]
  },
  {
   "cell_type": "code",
   "execution_count": 34,
   "metadata": {},
   "outputs": [],
   "source": [
    "B_csr = sparse.csr_matrix((data, indices, indptr), shape)"
   ]
  },
  {
   "cell_type": "code",
   "execution_count": 35,
   "metadata": {},
   "outputs": [
    {
     "data": {
      "text/plain": [
       "<5x10 sparse matrix of type '<class 'numpy.int64'>'\n",
       "\twith 17 stored elements in Compressed Sparse Row format>"
      ]
     },
     "execution_count": 35,
     "metadata": {},
     "output_type": "execute_result"
    }
   ],
   "source": [
    "B_csr"
   ]
  },
  {
   "cell_type": "code",
   "execution_count": 36,
   "metadata": {},
   "outputs": [],
   "source": [
    "B_csr.eliminate_zeros()"
   ]
  },
  {
   "cell_type": "code",
   "execution_count": 37,
   "metadata": {},
   "outputs": [
    {
     "data": {
      "text/plain": [
       "<5x10 sparse matrix of type '<class 'numpy.int64'>'\n",
       "\twith 16 stored elements in Compressed Sparse Row format>"
      ]
     },
     "execution_count": 37,
     "metadata": {},
     "output_type": "execute_result"
    }
   ],
   "source": [
    "B_csr"
   ]
  },
  {
   "cell_type": "code",
   "execution_count": 38,
   "metadata": {},
   "outputs": [],
   "source": [
    "# from COO format\n",
    "row = [0, 0, 1, 2, 2]\n",
    "col = [2, 3, 0, 1, 2]\n",
    "data = np.ones(5)\n",
    "A_csr = sparse.csr_matrix((data, (row, col)), shape = (3, 4))"
   ]
  },
  {
   "cell_type": "code",
   "execution_count": 39,
   "metadata": {},
   "outputs": [
    {
     "data": {
      "text/plain": [
       "array([[0., 0., 1., 1.],\n",
       "       [1., 0., 0., 0.],\n",
       "       [0., 1., 1., 0.]])"
      ]
     },
     "execution_count": 39,
     "metadata": {},
     "output_type": "execute_result"
    }
   ],
   "source": [
    "A_csr.toarray()"
   ]
  },
  {
   "cell_type": "code",
   "execution_count": 40,
   "metadata": {},
   "outputs": [],
   "source": [
    "# equivalently\n",
    "A_coo = sparse.coo_matrix((data, (row, col)), shape = (3, 4))\n",
    "A_csr = sparse.csr_matrix(A_coo)"
   ]
  },
  {
   "cell_type": "code",
   "execution_count": 41,
   "metadata": {},
   "outputs": [
    {
     "data": {
      "text/plain": [
       "array([[0., 0., 1., 1.],\n",
       "       [1., 0., 0., 0.],\n",
       "       [0., 1., 1., 0.]])"
      ]
     },
     "execution_count": 41,
     "metadata": {},
     "output_type": "execute_result"
    }
   ],
   "source": [
    "A_csr.toarray()"
   ]
  },
  {
   "cell_type": "markdown",
   "metadata": {},
   "source": [
    "## To do"
   ]
  },
  {
   "cell_type": "markdown",
   "metadata": {},
   "source": [
    "Complete the functions below that converts:\n",
    "* a dense matrix into a sparse matrix in CSR format,\n",
    "* a sparse matrix in COO format to CSR format.\n",
    "\n",
    "Again...\n",
    "* don't use `scipy`\n",
    "* don't use any loop"
   ]
  },
  {
   "cell_type": "code",
   "execution_count": 141,
   "metadata": {},
   "outputs": [],
   "source": [
    "class SparseCSR():\n",
    "    def __init__(self, data: np.ndarray = None, indices: np.ndarray = None, \n",
    "                 indptr: np.ndarray = None, shape: tuple = None):\n",
    "        self.data = data\n",
    "        self.indices = indices\n",
    "        self.indptr = indptr\n",
    "        self.shape = shape"
   ]
  },
  {
   "cell_type": "code",
   "execution_count": 142,
   "metadata": {},
   "outputs": [],
   "source": [
    "def dense_to_csr(A):\n",
    "    '''Convert dense matrix to sparse in CSR format.\n",
    "    \n",
    "    Parameters\n",
    "    ----------\n",
    "    A : np.ndarray\n",
    "        Dense matrix\n",
    "        \n",
    "    Returns\n",
    "    -------\n",
    "    A_csr : SparseCSR\n",
    "        Sparse matrix in CSR format.\n",
    "    '''\n",
    "    # to be modified\n",
    "    sparseCOO = dense_to_coo(A)\n",
    "    sparseCSR = coo_to_csr(sparseCOO)\n",
    "    return sparseCSR"
   ]
  },
  {
   "cell_type": "code",
   "execution_count": 245,
   "metadata": {},
   "outputs": [],
   "source": [
    "def coo_to_csr(A_coo):\n",
    "    '''Convert a sparse matrix from COO to CSR format.\n",
    "    \n",
    "    Parameters\n",
    "    ----------\n",
    "    A_coo : SparseCSR\n",
    "        Sparse matrix in COO format.\n",
    "        \n",
    "    Returns\n",
    "    -------\n",
    "    A_csr : SparseCSR\n",
    "        Sparse matrix in CSR format.\n",
    "    '''\n",
    "    # to be modified\n",
    "    \n",
    "    shape = A_coo.shape\n",
    "    data = A_coo.data\n",
    "    indices = A_coo.col\n",
    "    B, C = np.unique(A_coo.row, return_counts=True)\n",
    "    diff = np.diff(B)\n",
    "    min_row = np.sort(B)[0]\n",
    "    if (min_row > 0):\n",
    "        C = np.insert(C, 2*min_row*[0], [i for i in range(min_row)])\n",
    "    else: \n",
    "        C = np.insert(C,0,0)\n",
    "        \n",
    "    index = np.argwhere(diff[diff>1]).ravel()\n",
    "    if (index.size != 0):\n",
    "        C = np.insert(C, index, C[index])\n",
    "    \n",
    "    indptr = np.cumsum(C)\n",
    "    \n",
    "    sparseCSR = SparseCSR(data, indices, indptr, shape)\n",
    "    return sparseCSR"
   ]
  },
  {
   "cell_type": "code",
   "execution_count": 219,
   "metadata": {},
   "outputs": [
    {
     "name": "stdout",
     "output_type": "stream",
     "text": [
      "[1 1 1 1 1 1 1 1 1 1 1 1 1 1 1 1 1]\n",
      "[2 4 5 9 1 2 9 6 0 1 2 7 1 3 5 7 8]\n",
      "[ 0  4  7  8 12 17]\n"
     ]
    }
   ],
   "source": [
    "sparseCSR = dense_to_csr(A_dense)\n",
    "print(sparseCSR.data)\n",
    "print(sparseCSR.indices)\n",
    "print(sparseCSR.indptr)"
   ]
  },
  {
   "cell_type": "markdown",
   "metadata": {},
   "source": [
    "## CSC format"
   ]
  },
  {
   "cell_type": "code",
   "execution_count": 71,
   "metadata": {},
   "outputs": [
    {
     "data": {
      "text/plain": [
       "array([[0, 0, 1, 0, 1, 1, 0, 0, 0, 1],\n",
       "       [0, 1, 1, 0, 0, 0, 0, 0, 0, 1],\n",
       "       [0, 0, 0, 0, 0, 0, 1, 0, 0, 0],\n",
       "       [1, 1, 1, 0, 0, 0, 0, 1, 0, 0],\n",
       "       [0, 1, 0, 1, 0, 1, 0, 1, 1, 0]])"
      ]
     },
     "execution_count": 71,
     "metadata": {},
     "output_type": "execute_result"
    }
   ],
   "source": [
    "A_dense"
   ]
  },
  {
   "cell_type": "code",
   "execution_count": 72,
   "metadata": {},
   "outputs": [],
   "source": [
    "A_csc = sparse.csc_matrix(A_dense)"
   ]
  },
  {
   "cell_type": "code",
   "execution_count": 73,
   "metadata": {},
   "outputs": [
    {
     "data": {
      "text/plain": [
       "<5x10 sparse matrix of type '<class 'numpy.int64'>'\n",
       "\twith 17 stored elements in Compressed Sparse Column format>"
      ]
     },
     "execution_count": 73,
     "metadata": {},
     "output_type": "execute_result"
    }
   ],
   "source": [
    "A_csc"
   ]
  },
  {
   "cell_type": "code",
   "execution_count": 74,
   "metadata": {},
   "outputs": [
    {
     "data": {
      "text/plain": [
       "(5, 10)"
      ]
     },
     "execution_count": 74,
     "metadata": {},
     "output_type": "execute_result"
    }
   ],
   "source": [
    "A_csc.shape"
   ]
  },
  {
   "cell_type": "code",
   "execution_count": 75,
   "metadata": {},
   "outputs": [
    {
     "data": {
      "text/plain": [
       "17"
      ]
     },
     "execution_count": 75,
     "metadata": {},
     "output_type": "execute_result"
    }
   ],
   "source": [
    "A_csc.nnz"
   ]
  },
  {
   "cell_type": "code",
   "execution_count": 76,
   "metadata": {},
   "outputs": [
    {
     "name": "stdout",
     "output_type": "stream",
     "text": [
      "[3 1 3 4 0 1 3 4 0 0 4 2 3 4 4 0 1]\n",
      "[ 0  1  4  7  8  9 11 12 14 15 17]\n",
      "[1 1 1 1 1 1 1 1 1 1 1 1 1 1 1 1 1]\n"
     ]
    }
   ],
   "source": [
    "print(A_csc.indices)\n",
    "print(A_csc.indptr)\n",
    "print(A_csc.data)"
   ]
  },
  {
   "cell_type": "markdown",
   "metadata": {},
   "source": [
    "## LIL format"
   ]
  },
  {
   "cell_type": "code",
   "execution_count": 77,
   "metadata": {},
   "outputs": [
    {
     "data": {
      "text/plain": [
       "array([[0, 0, 1, 0, 1, 1, 0, 0, 0, 1],\n",
       "       [0, 1, 1, 0, 0, 0, 0, 0, 0, 1],\n",
       "       [0, 0, 0, 0, 0, 0, 1, 0, 0, 0],\n",
       "       [1, 1, 1, 0, 0, 0, 0, 1, 0, 0],\n",
       "       [0, 1, 0, 1, 0, 1, 0, 1, 1, 0]])"
      ]
     },
     "execution_count": 77,
     "metadata": {},
     "output_type": "execute_result"
    }
   ],
   "source": [
    "A_dense"
   ]
  },
  {
   "cell_type": "code",
   "execution_count": 78,
   "metadata": {},
   "outputs": [],
   "source": [
    "A_lil = sparse.lil_matrix(A_dense)"
   ]
  },
  {
   "cell_type": "code",
   "execution_count": 79,
   "metadata": {},
   "outputs": [
    {
     "data": {
      "text/plain": [
       "<5x10 sparse matrix of type '<class 'numpy.int64'>'\n",
       "\twith 17 stored elements in List of Lists format>"
      ]
     },
     "execution_count": 79,
     "metadata": {},
     "output_type": "execute_result"
    }
   ],
   "source": [
    "A_lil"
   ]
  },
  {
   "cell_type": "code",
   "execution_count": 80,
   "metadata": {},
   "outputs": [
    {
     "name": "stdout",
     "output_type": "stream",
     "text": [
      "[list([2, 4, 5, 9]) list([1, 2, 9]) list([6]) list([0, 1, 2, 7])\n",
      " list([1, 3, 5, 7, 8])]\n",
      "[list([1, 1, 1, 1]) list([1, 1, 1]) list([1]) list([1, 1, 1, 1])\n",
      " list([1, 1, 1, 1, 1])]\n"
     ]
    }
   ],
   "source": [
    "print(A_lil.rows)\n",
    "print(A_lil.data)"
   ]
  },
  {
   "cell_type": "code",
   "execution_count": 81,
   "metadata": {},
   "outputs": [],
   "source": [
    "A_lil = sparse.lil_matrix(A_csr)"
   ]
  },
  {
   "cell_type": "markdown",
   "metadata": {},
   "source": [
    "## To do\n",
    "\n",
    "What is the best format to modify an entry to a sparse matrix?"
   ]
  },
  {
   "cell_type": "markdown",
   "metadata": {},
   "source": [
    "**The best format to modify an entry to a sparse matrix is a list of list.**"
   ]
  },
  {
   "cell_type": "code",
   "execution_count": 82,
   "metadata": {},
   "outputs": [],
   "source": [
    "A_csr[0, 2] = 1"
   ]
  },
  {
   "cell_type": "code",
   "execution_count": 83,
   "metadata": {},
   "outputs": [],
   "source": [
    "A_lil[0, 2] = 1"
   ]
  },
  {
   "cell_type": "code",
   "execution_count": 85,
   "metadata": {},
   "outputs": [
    {
     "name": "stdout",
     "output_type": "stream",
     "text": [
      "  (0, 2)\t1.0\n",
      "  (0, 3)\t1.0\n",
      "  (1, 0)\t1.0\n",
      "  (2, 1)\t1.0\n",
      "  (2, 2)\t1.0\n",
      "  (0, 2)\t1.0\n",
      "  (0, 3)\t1.0\n",
      "  (1, 0)\t1.0\n",
      "  (2, 1)\t1.0\n",
      "  (2, 2)\t1.0\n"
     ]
    }
   ],
   "source": [
    "print(A_csr)"
   ]
  },
  {
   "cell_type": "code",
   "execution_count": 86,
   "metadata": {},
   "outputs": [
    {
     "name": "stdout",
     "output_type": "stream",
     "text": [
      "  (0, 2)\t1.0\n",
      "  (0, 3)\t1.0\n",
      "  (1, 0)\t1.0\n",
      "  (2, 1)\t1.0\n",
      "  (2, 2)\t1.0\n"
     ]
    }
   ],
   "source": [
    "print(A_lil)"
   ]
  },
  {
   "cell_type": "markdown",
   "metadata": {},
   "source": [
    "## Diagonal format"
   ]
  },
  {
   "cell_type": "code",
   "execution_count": 87,
   "metadata": {},
   "outputs": [],
   "source": [
    "A_diag = sparse.diags(np.arange(5))"
   ]
  },
  {
   "cell_type": "code",
   "execution_count": 88,
   "metadata": {},
   "outputs": [
    {
     "data": {
      "text/plain": [
       "<5x5 sparse matrix of type '<class 'numpy.float64'>'\n",
       "\twith 5 stored elements (1 diagonals) in DIAgonal format>"
      ]
     },
     "execution_count": 88,
     "metadata": {},
     "output_type": "execute_result"
    }
   ],
   "source": [
    "A_diag"
   ]
  },
  {
   "cell_type": "code",
   "execution_count": 89,
   "metadata": {},
   "outputs": [
    {
     "data": {
      "text/plain": [
       "array([[0., 0., 0., 0., 0.],\n",
       "       [0., 1., 0., 0., 0.],\n",
       "       [0., 0., 2., 0., 0.],\n",
       "       [0., 0., 0., 3., 0.],\n",
       "       [0., 0., 0., 0., 4.]])"
      ]
     },
     "execution_count": 89,
     "metadata": {},
     "output_type": "execute_result"
    }
   ],
   "source": [
    "A_diag.toarray()"
   ]
  },
  {
   "cell_type": "code",
   "execution_count": 90,
   "metadata": {
    "scrolled": true
   },
   "outputs": [
    {
     "data": {
      "text/plain": [
       "array([0., 1., 2., 3., 4.])"
      ]
     },
     "execution_count": 90,
     "metadata": {},
     "output_type": "execute_result"
    }
   ],
   "source": [
    "A_diag.diagonal()"
   ]
  },
  {
   "cell_type": "code",
   "execution_count": 91,
   "metadata": {},
   "outputs": [],
   "source": [
    "A = sparse.csr_matrix(A_diag)"
   ]
  },
  {
   "cell_type": "code",
   "execution_count": 92,
   "metadata": {},
   "outputs": [
    {
     "data": {
      "text/plain": [
       "<5x5 sparse matrix of type '<class 'numpy.float64'>'\n",
       "\twith 4 stored elements in Compressed Sparse Row format>"
      ]
     },
     "execution_count": 92,
     "metadata": {},
     "output_type": "execute_result"
    }
   ],
   "source": [
    "A"
   ]
  },
  {
   "cell_type": "markdown",
   "metadata": {},
   "source": [
    "## To do"
   ]
  },
  {
   "cell_type": "markdown",
   "metadata": {},
   "source": [
    "Complete the following function that returns a sparse CSR matrix with the pseudo-inverse vector on the diagonal.\n",
    "\n",
    "**Example:** pseudo inverse of (0, 1, 2) -> (0, 1, 1/2)\n",
    "\n",
    "**Hint:** Use the property of sparse matrices!"
   ]
  },
  {
   "cell_type": "code",
   "execution_count": 220,
   "metadata": {},
   "outputs": [],
   "source": [
    "def pseudo_inverse(vector):\n",
    "    '''Return a sparse matrix with pseudo-inverse on the diagonal.\n",
    "    \n",
    "    Parameters\n",
    "    ----------\n",
    "    vector : np.ndarray\n",
    "        Input vector. \n",
    "        \n",
    "    Returns\n",
    "    -------\n",
    "    A_csr : sparse.csr_matrix\n",
    "        Sparse matrix in scipy CSR format.\n",
    "    '''    \n",
    "    # to be modified\n",
    "    \n",
    "    A = dense_to_csr(vector)\n",
    "    data = A.data.astype(float)\n",
    "    indices = A.indices\n",
    "    indptr = A.indptr\n",
    "    count = 0\n",
    "    \n",
    "    for i in indptr[:-1]:\n",
    "        j = indices[i]\n",
    "        if (j == count):\n",
    "            data[i] = 1/data[i]\n",
    "        count = count + 1\n",
    "    sparseCSR = SparseCSR(data, indices, indptr)\n",
    "    return sparseCSR"
   ]
  },
  {
   "cell_type": "code",
   "execution_count": 222,
   "metadata": {},
   "outputs": [
    {
     "name": "stdout",
     "output_type": "stream",
     "text": [
      "[1.         0.5        0.33333333 0.25      ]\n",
      "[1 2 3 4]\n",
      "[0 0 1 2 3 4]\n"
     ]
    }
   ],
   "source": [
    "A_ex = np.array(A_diag.toarray())\n",
    "sparseCSR_diag = pseudo_inverse(A_ex)\n",
    "print(sparseCSR_diag.data)\n",
    "print(sparseCSR_diag.indices)\n",
    "print(sparseCSR_diag.indptr)"
   ]
  },
  {
   "cell_type": "markdown",
   "metadata": {},
   "source": [
    "## Operations"
   ]
  },
  {
   "cell_type": "markdown",
   "metadata": {},
   "source": [
    "Usual arithmetic operations apply to sparse matrices. The only contraint is to have a sparse matrix on the **left-hand side** of the operator."
   ]
  },
  {
   "cell_type": "code",
   "execution_count": 223,
   "metadata": {},
   "outputs": [],
   "source": [
    "A = sparse.csr_matrix(A_dense)"
   ]
  },
  {
   "cell_type": "code",
   "execution_count": 224,
   "metadata": {},
   "outputs": [],
   "source": [
    "n_row, n_col = A.shape"
   ]
  },
  {
   "cell_type": "code",
   "execution_count": 225,
   "metadata": {
    "scrolled": true
   },
   "outputs": [
    {
     "data": {
      "text/plain": [
       "array([4, 3, 1, 4, 5], dtype=int64)"
      ]
     },
     "execution_count": 225,
     "metadata": {},
     "output_type": "execute_result"
    }
   ],
   "source": [
    "A.dot(np.ones(n_col, dtype=int))"
   ]
  },
  {
   "cell_type": "code",
   "execution_count": 226,
   "metadata": {},
   "outputs": [
    {
     "data": {
      "text/plain": [
       "array([1, 3, 3, 1, 1, 2, 1, 2, 1, 2], dtype=int64)"
      ]
     },
     "execution_count": 226,
     "metadata": {},
     "output_type": "execute_result"
    }
   ],
   "source": [
    "A.T.dot(np.ones(n_row, dtype=int))"
   ]
  },
  {
   "cell_type": "code",
   "execution_count": 227,
   "metadata": {},
   "outputs": [
    {
     "data": {
      "text/plain": [
       "<10x5 sparse matrix of type '<class 'numpy.int64'>'\n",
       "\twith 17 stored elements in Compressed Sparse Column format>"
      ]
     },
     "execution_count": 227,
     "metadata": {},
     "output_type": "execute_result"
    }
   ],
   "source": [
    "# observe the format of the transpose\n",
    "A.T"
   ]
  },
  {
   "cell_type": "code",
   "execution_count": 228,
   "metadata": {},
   "outputs": [
    {
     "data": {
      "text/plain": [
       "<10x10 sparse matrix of type '<class 'numpy.int64'>'\n",
       "\twith 54 stored elements in Compressed Sparse Column format>"
      ]
     },
     "execution_count": 228,
     "metadata": {},
     "output_type": "execute_result"
    }
   ],
   "source": [
    "A.T.dot(A)"
   ]
  },
  {
   "cell_type": "code",
   "execution_count": 229,
   "metadata": {},
   "outputs": [
    {
     "data": {
      "text/plain": [
       "<5x5 sparse matrix of type '<class 'numpy.int64'>'\n",
       "\twith 17 stored elements in Compressed Sparse Row format>"
      ]
     },
     "execution_count": 229,
     "metadata": {},
     "output_type": "execute_result"
    }
   ],
   "source": [
    "A.dot(A.T)"
   ]
  },
  {
   "cell_type": "code",
   "execution_count": 230,
   "metadata": {},
   "outputs": [],
   "source": [
    "A.data = np.random.choice((1,2,3,4), size = len(A.data))"
   ]
  },
  {
   "cell_type": "code",
   "execution_count": 231,
   "metadata": {},
   "outputs": [],
   "source": [
    "B = A > 1"
   ]
  },
  {
   "cell_type": "code",
   "execution_count": 232,
   "metadata": {},
   "outputs": [
    {
     "data": {
      "text/plain": [
       "<5x10 sparse matrix of type '<class 'numpy.bool_'>'\n",
       "\twith 12 stored elements in Compressed Sparse Row format>"
      ]
     },
     "execution_count": 232,
     "metadata": {},
     "output_type": "execute_result"
    }
   ],
   "source": [
    "B"
   ]
  },
  {
   "cell_type": "code",
   "execution_count": 233,
   "metadata": {},
   "outputs": [
    {
     "name": "stderr",
     "output_type": "stream",
     "text": [
      "/Users/eric/anaconda3/lib/python3.7/site-packages/scipy/sparse/compressed.py:287: SparseEfficiencyWarning: Comparing a sparse matrix with a scalar greater than zero using < is inefficient, try using >= instead.\n",
      "  warn(bad_scalar_msg, SparseEfficiencyWarning)\n"
     ]
    }
   ],
   "source": [
    "# Explain the following warning...\n",
    "B = A < 1"
   ]
  },
  {
   "cell_type": "code",
   "execution_count": 234,
   "metadata": {},
   "outputs": [
    {
     "data": {
      "text/plain": [
       "<5x10 sparse matrix of type '<class 'numpy.bool_'>'\n",
       "\twith 33 stored elements in Compressed Sparse Row format>"
      ]
     },
     "execution_count": 234,
     "metadata": {},
     "output_type": "execute_result"
    }
   ],
   "source": [
    "B"
   ]
  },
  {
   "cell_type": "code",
   "execution_count": 235,
   "metadata": {},
   "outputs": [],
   "source": [
    "B_dense = np.random.randint(2, size = (5,10))\n",
    "B = sparse.csr_matrix(B_dense)"
   ]
  },
  {
   "cell_type": "code",
   "execution_count": 236,
   "metadata": {},
   "outputs": [
    {
     "data": {
      "text/plain": [
       "<5x10 sparse matrix of type '<class 'numpy.int64'>'\n",
       "\twith 26 stored elements in Compressed Sparse Row format>"
      ]
     },
     "execution_count": 236,
     "metadata": {},
     "output_type": "execute_result"
    }
   ],
   "source": [
    "2 * A + 5 * B"
   ]
  },
  {
   "cell_type": "markdown",
   "metadata": {},
   "source": [
    "## To do"
   ]
  },
  {
   "cell_type": "markdown",
   "metadata": {},
   "source": [
    "* Complete the following function that normalizes a sparse CSR matrix with non-negative entries so that each row sums to 1 (or to 0 if the whole row is zero). \n",
    "* Do the same for the columns. "
   ]
  },
  {
   "cell_type": "code",
   "execution_count": 237,
   "metadata": {},
   "outputs": [],
   "source": [
    "def normalize_rows(A):\n",
    "    '''Normalize the rows of a CSR matrix so that all sum to 1 (or 0).\n",
    "    \n",
    "    Parameters\n",
    "    ----------\n",
    "    A : sparse.csr_matrix\n",
    "        Input matrix (non-negative entries).\n",
    "    \n",
    "    Returns\n",
    "    -------\n",
    "    X_ : sparse.csr_matrix\n",
    "        Normalized matrix. \n",
    "    \n",
    "    '''\n",
    "    # to be modified\n",
    "    data = A.data.astype(float)\n",
    "    indices = A.indices\n",
    "    indptr = A.indptr\n",
    "    \n",
    "    for i in range(indptr.shape[0]-1):\n",
    "        s = 0\n",
    "        for j in range(indptr[i], indptr[i+1]):\n",
    "            s = s + data[j]\n",
    "        for j in range(indptr[i], indptr[i+1]):\n",
    "            data[j] = data[j]/s\n",
    "    sparseCSR = SparseCSR(data, indices, indptr)\n",
    "    return sparseCSR"
   ]
  },
  {
   "cell_type": "code",
   "execution_count": 243,
   "metadata": {},
   "outputs": [
    {
     "name": "stdout",
     "output_type": "stream",
     "text": [
      "[[0 0 1 0 1 1 0 0 0 1]\n",
      " [0 1 1 0 0 0 0 0 0 1]\n",
      " [0 0 0 0 0 0 1 0 0 0]\n",
      " [1 1 1 0 0 0 0 1 0 0]\n",
      " [0 1 0 1 0 1 0 1 1 0]]\n",
      "[0.25       0.25       0.25       0.25       0.33333333 0.33333333\n",
      " 0.33333333 1.         0.25       0.25       0.25       0.25\n",
      " 0.2        0.2        0.2        0.2        0.2       ]\n"
     ]
    }
   ],
   "source": [
    "print(A_dense)\n",
    "print(normalize_rows(sparse.csr_matrix(A_dense)).data)"
   ]
  },
  {
   "cell_type": "markdown",
   "metadata": {},
   "source": [
    "## To do"
   ]
  },
  {
   "cell_type": "markdown",
   "metadata": {},
   "source": [
    "Complete the following method that returns the dot product of a sparse CSR matrix with a vector.\n",
    "\n",
    "* No loop allowed!"
   ]
  },
  {
   "cell_type": "code",
   "execution_count": null,
   "metadata": {},
   "outputs": [],
   "source": [
    "class SparseCSR():\n",
    "    def __init__(self, data: np.ndarray = None, indices: np.ndarray = None, \n",
    "                 indptr: np.ndarray = None, shape: tuple = None):\n",
    "        self.data = data\n",
    "        self.indices = indices\n",
    "        self.indptr = indptr\n",
    "        self.shape = shape\n",
    "        \n",
    "    def dot(self, x: np.ndarray) -> np.ndarray:\n",
    "        '''Sparse-vector dot product.'''\n",
    "        # to be modified\n",
    "        data = self.data\n",
    "        indices = self.indices\n",
    "        indptr = self.indptr\n",
    "        shape = self.shape\n",
    "        \n",
    "        \n",
    "        \n",
    "        return None"
   ]
  },
  {
   "cell_type": "markdown",
   "metadata": {},
   "source": [
    "## Slicing"
   ]
  },
  {
   "cell_type": "markdown",
   "metadata": {},
   "source": [
    "Sparse matrices can be sliced like numpy arrays. The CSR format is more efficient for row slicing (although column slicing is possible), while the CSC format is more efficient for column slicing."
   ]
  },
  {
   "cell_type": "code",
   "execution_count": null,
   "metadata": {},
   "outputs": [],
   "source": [
    "A = sparse.csr_matrix(A_dense)"
   ]
  },
  {
   "cell_type": "code",
   "execution_count": null,
   "metadata": {},
   "outputs": [],
   "source": [
    "A[:2]"
   ]
  },
  {
   "cell_type": "code",
   "execution_count": null,
   "metadata": {},
   "outputs": [],
   "source": [
    "A[1:4][:,2:]"
   ]
  },
  {
   "cell_type": "code",
   "execution_count": null,
   "metadata": {},
   "outputs": [],
   "source": [
    "A[np.array([0,2,4])]"
   ]
  },
  {
   "cell_type": "markdown",
   "metadata": {},
   "source": [
    "## To do \n",
    "\n",
    "Consider the following matrix:"
   ]
  },
  {
   "cell_type": "code",
   "execution_count": null,
   "metadata": {},
   "outputs": [],
   "source": [
    "A = sparse.csr_matrix(np.random.randint(2, size = (20,30)))"
   ]
  },
  {
   "cell_type": "markdown",
   "metadata": {},
   "source": [
    "* Extract the 10 rows of largest sums and build the corresponding matrix."
   ]
  },
  {
   "cell_type": "markdown",
   "metadata": {},
   "source": [
    "## Bonus"
   ]
  },
  {
   "cell_type": "markdown",
   "metadata": {},
   "source": [
    "Complete all methods of the following CSR class."
   ]
  },
  {
   "cell_type": "code",
   "execution_count": null,
   "metadata": {},
   "outputs": [],
   "source": [
    "class SparseCSR():\n",
    "    def __init__(self, data: np.ndarray = None, indices: np.ndarray = None, \n",
    "                 indptr: np.ndarray = None, shape: tuple = None):\n",
    "        self.data = data\n",
    "        self.indices = indices\n",
    "        self.indptr = indptr\n",
    "        self.shape = shape\n",
    "        \n",
    "    def dot(self, x: np.ndarray) -> np.ndarray:\n",
    "        '''Sparse-vector dot product.'''\n",
    "        # to be modified\n",
    "        return None\n",
    "\n",
    "    def dot_array(self, X: np.ndarray) -> np.ndarray:\n",
    "        '''Sparse-array dot product.'''\n",
    "        # to be modified\n",
    "        return None\n",
    "    \n",
    "    def dot_sparse(self, X: SparseCSR) -> SparseCSR:\n",
    "        '''Sparse-sparse dot product.'''\n",
    "        # to be modified\n",
    "        return None\n",
    "    \n",
    "    def add_sparse(self, X: SparseCSR) -> SparseCSR:\n",
    "        '''Add a sparse matrix.'''\n",
    "        # to be modified\n",
    "        return None\n",
    "    \n",
    "    def slice_row(self, index: np.ndarray) -> SparseCSR:\n",
    "        '''Slice rows of a sparse matrix.'''\n",
    "        # to be modified\n",
    "        return None\n",
    "    \n",
    "    def slice_col(self, index: np.ndarray) -> SparseCSR:\n",
    "        '''Slice columns of a sparse matrix.'''\n",
    "        # to be modified\n",
    "        return None\n",
    "    \n",
    "    def eliminate_zeros(self) -> SparseCSR:\n",
    "        '''Eliminate zeros of a sparse matrix.'''\n",
    "        # to be modified\n",
    "        return None"
   ]
  }
 ],
 "metadata": {
  "kernelspec": {
   "display_name": "Python 3",
   "language": "python",
   "name": "python3"
  },
  "language_info": {
   "codemirror_mode": {
    "name": "ipython",
    "version": 3
   },
   "file_extension": ".py",
   "mimetype": "text/x-python",
   "name": "python",
   "nbconvert_exporter": "python",
   "pygments_lexer": "ipython3",
   "version": "3.7.3"
  }
 },
 "nbformat": 4,
 "nbformat_minor": 2
}
